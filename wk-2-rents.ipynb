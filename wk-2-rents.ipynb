{
 "cells": [
  {
   "cell_type": "markdown",
   "id": "12b1e932",
   "metadata": {},
   "source": [
    "Alfred pays 900\n",
    "Fatima pays 1200\n",
    "Trina pays 700\n",
    "\n",
    "What percent of the rent does Trina pay in rent?"
   ]
  },
  {
   "cell_type": "markdown",
   "id": "35a9f2e5",
   "metadata": {},
   "source": [
    "PEMDAS "
   ]
  },
  {
   "cell_type": "code",
   "execution_count": 1,
   "id": "4e36bbdc",
   "metadata": {},
   "outputs": [
    {
     "data": {
      "text/plain": [
       "25.0"
      ]
     },
     "execution_count": 1,
     "metadata": {},
     "output_type": "execute_result"
    }
   ],
   "source": [
    "700/(900+1_200+700)*100"
   ]
  },
  {
   "cell_type": "code",
   "execution_count": 10,
   "id": "981a090d",
   "metadata": {},
   "outputs": [],
   "source": [
    "trina_monthly_23=700"
   ]
  },
  {
   "cell_type": "code",
   "execution_count": 11,
   "id": "ed3aad53",
   "metadata": {},
   "outputs": [],
   "source": [
    "fatima_monthly_23t=1_200"
   ]
  },
  {
   "cell_type": "code",
   "execution_count": 12,
   "id": "d073fed2",
   "metadata": {},
   "outputs": [],
   "source": [
    "alfred_monthly_23=900"
   ]
  },
  {
   "cell_type": "code",
   "execution_count": 13,
   "id": "d79b25ab",
   "metadata": {},
   "outputs": [],
   "source": [
    "##also assign##: \n",
    "alfred_m, fatima_m, trina_m = 900, 1_200, 700"
   ]
  },
  {
   "cell_type": "markdown",
   "id": "14bdf671",
   "metadata": {},
   "source": [
    "alfred_m"
   ]
  },
  {
   "cell_type": "code",
   "execution_count": 8,
   "id": "483d5076",
   "metadata": {},
   "outputs": [
    {
     "data": {
      "text/plain": [
       "900"
      ]
     },
     "execution_count": 8,
     "metadata": {},
     "output_type": "execute_result"
    }
   ],
   "source": [
    "alfred_m"
   ]
  },
  {
   "cell_type": "code",
   "execution_count": 9,
   "id": "d5fc992d",
   "metadata": {},
   "outputs": [
    {
     "data": {
      "text/plain": [
       "1200"
      ]
     },
     "execution_count": 9,
     "metadata": {},
     "output_type": "execute_result"
    }
   ],
   "source": [
    "fatima_m"
   ]
  },
  {
   "cell_type": "code",
   "execution_count": 15,
   "id": "385a178c",
   "metadata": {},
   "outputs": [],
   "source": [
    "trina_share_23 =trina_m/(alfred_m + fatima_m + trina_m) * 100\n"
   ]
  },
  {
   "cell_type": "code",
   "execution_count": 16,
   "id": "8ee00d3a",
   "metadata": {},
   "outputs": [
    {
     "data": {
      "text/plain": [
       "25.0"
      ]
     },
     "execution_count": 16,
     "metadata": {},
     "output_type": "execute_result"
    }
   ],
   "source": [
    "trina_share_23"
   ]
  },
  {
   "cell_type": "code",
   "execution_count": 17,
   "id": "75939eae",
   "metadata": {},
   "outputs": [],
   "source": [
    "# easier to read\n",
    "trina_share_23 = \\\n",
    "trina_m / (alfred_m + \\\n",
    "           fatima_m + \\\n",
    "           trina_m) * 100"
   ]
  },
  {
   "cell_type": "code",
   "execution_count": 18,
   "id": "a7699645",
   "metadata": {},
   "outputs": [
    {
     "data": {
      "text/plain": [
       "25.0"
      ]
     },
     "execution_count": 18,
     "metadata": {},
     "output_type": "execute_result"
    }
   ],
   "source": [
    "trina_share_23, alfred_m, fatima_m"
   ]
  },
  {
   "cell_type": "code",
   "execution_count": null,
   "id": "74567200",
   "metadata": {},
   "outputs": [],
   "source": []
  }
 ],
 "metadata": {
  "kernelspec": {
   "display_name": "Python 3 (ipykernel)",
   "language": "python",
   "name": "python3"
  },
  "language_info": {
   "codemirror_mode": {
    "name": "ipython",
    "version": 3
   },
   "file_extension": ".py",
   "mimetype": "text/x-python",
   "name": "python",
   "nbconvert_exporter": "python",
   "pygments_lexer": "ipython3",
   "version": "3.11.5"
  }
 },
 "nbformat": 4,
 "nbformat_minor": 5
}
