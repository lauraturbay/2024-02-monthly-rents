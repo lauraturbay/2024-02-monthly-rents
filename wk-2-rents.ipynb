{
 "cells": [
  {
   "cell_type": "markdown",
   "id": "f495262b",
   "metadata": {},
   "source": [
    "Alfred pays 900\n",
    "Fatima pays 1200\n",
    "Trina pays 700\n",
    "\n",
    "What percent of the rent does Trina pay in rent?"
   ]
  },
  {
   "cell_type": "markdown",
   "id": "8bae3d1e",
   "metadata": {},
   "source": [
    "PEMDAS "
   ]
  },
  {
   "cell_type": "code",
   "execution_count": 1,
   "id": "b5811256",
   "metadata": {},
   "outputs": [
    {
     "data": {
      "text/plain": [
       "25.0"
      ]
     },
     "execution_count": 1,
     "metadata": {},
     "output_type": "execute_result"
    }
   ],
   "source": [
    "700/(900+1_200+700)*100"
   ]
  },
  {
   "cell_type": "code",
   "execution_count": 10,
   "id": "861f1734",
   "metadata": {},
   "outputs": [],
   "source": [
    "trina_monthly_23=700"
   ]
  },
  {
   "cell_type": "code",
   "execution_count": 11,
   "id": "0211f111",
   "metadata": {},
   "outputs": [],
   "source": [
    "fatima_monthly_23t=1_200"
   ]
  },
  {
   "cell_type": "code",
   "execution_count": 12,
   "id": "20154cf9",
   "metadata": {},
   "outputs": [],
   "source": [
    "alfred_monthly_23=900"
   ]
  },
  {
   "cell_type": "code",
   "execution_count": 13,
   "id": "ed392f10",
   "metadata": {},
   "outputs": [],
   "source": [
    "##also assign##: \n",
    "alfred_m, fatima_m, trina_m = 900, 1_200, 700"
   ]
  },
  {
   "cell_type": "markdown",
   "id": "96096bfd",
   "metadata": {},
   "source": [
    "alfred_m"
   ]
  },
  {
   "cell_type": "code",
   "execution_count": 8,
   "id": "0aee849a",
   "metadata": {},
   "outputs": [
    {
     "data": {
      "text/plain": [
       "900"
      ]
     },
     "execution_count": 8,
     "metadata": {},
     "output_type": "execute_result"
    }
   ],
   "source": [
    "alfred_m"
   ]
  },
  {
   "cell_type": "code",
   "execution_count": 9,
   "id": "46672a91",
   "metadata": {},
   "outputs": [
    {
     "data": {
      "text/plain": [
       "1200"
      ]
     },
     "execution_count": 9,
     "metadata": {},
     "output_type": "execute_result"
    }
   ],
   "source": [
    "fatima_m"
   ]
  },
  {
   "cell_type": "code",
   "execution_count": 15,
   "id": "7c3d9d68",
   "metadata": {},
   "outputs": [],
   "source": [
    "trina_share_23 =trina_m/(alfred_m + fatima_m + trina_m) * 100\n"
   ]
  },
  {
   "cell_type": "code",
   "execution_count": 16,
   "id": "cb6dc536",
   "metadata": {},
   "outputs": [
    {
     "data": {
      "text/plain": [
       "25.0"
      ]
     },
     "execution_count": 16,
     "metadata": {},
     "output_type": "execute_result"
    }
   ],
   "source": [
    "trina_share_23"
   ]
  },
  {
   "cell_type": "code",
   "execution_count": 17,
   "id": "3ddf4dd2",
   "metadata": {},
   "outputs": [],
   "source": [
    "# easier to read\n",
    "trina_share_23 = \\\n",
    "trina_m / (alfred_m + \\\n",
    "           fatima_m + \\\n",
    "           trina_m) * 100"
   ]
  },
  {
   "cell_type": "code",
   "execution_count": 18,
   "id": "002fff24",
   "metadata": {},
   "outputs": [
    {
     "data": {
      "text/plain": [
       "25.0"
      ]
     },
     "execution_count": 18,
     "metadata": {},
     "output_type": "execute_result"
    }
   ],
   "source": [
    "trina_share_23, alfred_m, fatima_m"
   ]
  },
  {
   "cell_type": "code",
   "execution_count": 19,
   "id": "08207497",
   "metadata": {},
   "outputs": [
    {
     "name": "stdout",
     "output_type": "stream",
     "text": [
      "hello world\n"
     ]
    }
   ],
   "source": [
    "# print function\n",
    "print (\"hello world\")"
   ]
  },
  {
   "cell_type": "code",
   "execution_count": 21,
   "id": "6d043da7",
   "metadata": {},
   "outputs": [
    {
     "name": "stdout",
     "output_type": "stream",
     "text": [
      "900\n",
      "700\n",
      "1200 900\n"
     ]
    }
   ],
   "source": [
    "print(alfred_m)\n",
    "print(trina_m)\n",
    "print(fatima_m, alfred_m)"
   ]
  },
  {
   "cell_type": "code",
   "execution_count": 24,
   "id": "2a54c545",
   "metadata": {},
   "outputs": [
    {
     "name": "stdout",
     "output_type": "stream",
     "text": [
      "Trina's rent: $700\n",
      "Trina pays 25.0 percent of total rent\n"
     ]
    }
   ],
   "source": [
    "# f-string \n",
    "print(f\"Trina's rent: ${trina_m}\")\n",
    "print(f\"Trina pays {trina_share_23} percent of total rent\")"
   ]
  },
  {
   "cell_type": "code",
   "execution_count": 29,
   "id": "1c5eb59f",
   "metadata": {},
   "outputs": [
    {
     "name": "stdout",
     "output_type": "stream",
     "text": [
      "the total monthly rent is: $2800 and Trina pays 700 percent of it.\n"
     ]
    }
   ],
   "source": [
    "# f-string does calculateions\n",
    "\n",
    "print(f\"the total monthly rent is: \\\n",
    "${alfred_m + fatima_m + trina_m} \\\n",
    "and Trina pays {trina_share_23} percent of it.\")"
   ]
  }
 ],
 "metadata": {
  "kernelspec": {
   "display_name": "Python 3 (ipykernel)",
   "language": "python",
   "name": "python3"
  },
  "language_info": {
   "codemirror_mode": {
    "name": "ipython",
    "version": 3
   },
   "file_extension": ".py",
   "mimetype": "text/x-python",
   "name": "python",
   "nbconvert_exporter": "python",
   "pygments_lexer": "ipython3",
   "version": "3.11.5"
  }
 },
 "nbformat": 4,
 "nbformat_minor": 5
}
